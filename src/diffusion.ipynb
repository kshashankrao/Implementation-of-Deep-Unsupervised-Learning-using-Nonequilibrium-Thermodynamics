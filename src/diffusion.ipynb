{
  "cells": [
    {
      "cell_type": "code",
      "execution_count": 8,
      "metadata": {
        "colab": {
          "base_uri": "https://localhost:8080/"
        },
        "id": "aoLEYvYsFsZS",
        "outputId": "6106a7db-75d5-457c-f30a-67f716a53e4e"
      },
      "outputs": [
        {
          "name": "stdout",
          "output_type": "stream",
          "text": [
            "Mounted at /content/gdrive\n"
          ]
        }
      ],
      "source": [
        "import numpy as np\n",
        "import torch\n",
        "import torch.nn as nn\n",
        "import matplotlib.pyplot as plt\n",
        "from sklearn.datasets import make_swiss_roll\n",
        "from tqdm import tqdm\n",
        "import os\n",
        "from google.colab import drive\n",
        "drive.mount('/content/gdrive')"
      ]
    },
    {
      "cell_type": "code",
      "execution_count": 9,
      "metadata": {
        "id": "Fm-tnwR7FsVi"
      },
      "outputs": [],
      "source": [
        "# Data preparation\n",
        "def sample_batch(batch_size, device='cpu'):\n",
        "    data, _ = make_swiss_roll(batch_size)\n",
        "    data = data[:, [2, 0]] / 10\n",
        "    data = data * np.array([1, -1])\n",
        "    return torch.from_numpy(data).to(device)"
      ]
    },
    {
      "cell_type": "code",
      "execution_count": 10,
      "metadata": {
        "id": "eeD7AMj_FsP4"
      },
      "outputs": [],
      "source": [
        "# Data visualization\n",
        "def plot(model, file_name, device):\n",
        "\n",
        "    fontsize = 14\n",
        "    fig = plt.figure(figsize=(10, 6))\n",
        "\n",
        "    N = 5_000\n",
        "    x0 = sample_batch(N).to(device)\n",
        "    samples = model.sample(N, device=device)\n",
        "\n",
        "    data = [x0.cpu(), model.forward_process(x0, 20)[-1].cpu(), model.forward_process(x0, 40)[-1].cpu()]\n",
        "    for i in range(3):\n",
        "\n",
        "        plt.subplot(2, 3, 1+i)\n",
        "        plt.scatter(data[i][:, 0].data.numpy(), data[i][:, 1].data.numpy(), alpha=0.1, s=1)\n",
        "        plt.xlim([-2, 2])\n",
        "        plt.ylim([-2, 2])\n",
        "        plt.gca().set_aspect('equal')\n",
        "\n",
        "        if i == 0: plt.ylabel(r'$q(\\mathbf{x}^{(0..T)})$', fontsize=fontsize)\n",
        "        if i == 0: plt.title(r'$t=0$', fontsize=fontsize)\n",
        "        if i == 1: plt.title(r'$t=\\frac{T}{2}$', fontsize=fontsize)\n",
        "        if i == 2: plt.title(r'$t=T$', fontsize=fontsize)\n",
        "\n",
        "    time_steps = [0, 20, 40]\n",
        "    for i in range(3):\n",
        "\n",
        "        plt.subplot(2, 3, 4+i)\n",
        "        plt.scatter(samples[time_steps[i]][:, 0].data.cpu().numpy(), samples[time_steps[i]][:, 1].data.cpu().numpy(),\n",
        "                    alpha=0.1, c='r', s=1)\n",
        "        plt.xlim([-2, 2])\n",
        "        plt.ylim([-2, 2])\n",
        "        plt.gca().set_aspect('equal')\n",
        "\n",
        "        if i == 0: plt.ylabel(r'$p(\\mathbf{x}^{(0..T)})$', fontsize=fontsize)\n",
        "\n",
        "    plt.savefig(file_name, bbox_inches='tight')\n",
        "    plt.close()"
      ]
    },
    {
      "cell_type": "code",
      "execution_count": 11,
      "metadata": {
        "id": "Ak3EbW9pF-55"
      },
      "outputs": [],
      "source": [
        "# Model to predict the mean and variance during the reverse diffusion process\n",
        "class MLP(nn.Module):\n",
        "\n",
        "    def __init__(self, N=40, data_dim=2, hidden_dim=64):\n",
        "        super(MLP, self).__init__()\n",
        "\n",
        "        self.network_head = nn.Sequential(nn.Linear(data_dim, hidden_dim),\n",
        "                                          nn.ReLU(),\n",
        "                                          nn.Linear(hidden_dim, hidden_dim),\n",
        "                                          nn.ReLU(),)\n",
        "\n",
        "        self.network_tail = nn.ModuleList([nn.Sequential(nn.Linear(hidden_dim, hidden_dim),\n",
        "                                                         nn.ReLU(),\n",
        "                                                         nn.Linear(hidden_dim, data_dim * 2),) for t in range(N)])\n",
        "\n",
        "    def forward(self, x, t):\n",
        "\n",
        "        h = self.network_head(x) # [batch_size, hidden_dim]\n",
        "        tmp = self.network_tail[t](h) # [batch_size, data_dim * 2]\n",
        "        \"\"\"\n",
        "        tmp produces a tensor of size [batch_size, data_dim * 2].\n",
        "        This is split across the last dimension using torch.chunk to seperate tmp into 2 tensors.\n",
        "        The first is the mean, and the second the diagonal matrix of 2x2 covariance matrix\n",
        "        (i.e. only the variance)\n",
        "        \"\"\"\n",
        "        mu, h = torch.chunk(tmp, 2, dim=1)\n",
        "        var = torch.exp(h) # Keeps the value of var > 0\n",
        "        std = torch.sqrt(var)\n",
        "\n",
        "        return mu, std"
      ]
    },
    {
      "cell_type": "code",
      "execution_count": null,
      "metadata": {
        "id": "_pJ-IZGtFsMg"
      },
      "outputs": [],
      "source": [
        "class DiffusionModel(torch.nn.Module):\n",
        "\n",
        "    def __init__(self, T, model: nn.Module, device, dim=2):\n",
        "\n",
        "        super().__init__()\n",
        "        # betas and alphas - Vector contains the variance of noise to add to the input data during forward process.\n",
        "        # It is a scaling factor used to reduce the amount of data and increase the noise in the input.\n",
        "        self.betas = (torch.sigmoid(torch.linspace(-18, 10, T)) * (3e-1 - 1e-5) + 1e-5).to(device)\n",
        "        self.alphas = 1 - self.betas\n",
        "        self.alphas_bar = torch.cumprod(self.alphas, 0)\n",
        "\n",
        "        self.T = T\n",
        "        self.model = model\n",
        "        self.dim = dim\n",
        "\n",
        "    def forward_process(self, x0, t):\n",
        "        \"\"\"\n",
        "        :param t: Number of diffusion steps\n",
        "        \"\"\"\n",
        "\n",
        "        assert t > 0, 't should be greater than 0'\n",
        "        assert t <= self.T, f't should be lower or equal than {self.T}'\n",
        "\n",
        "        t = t - 1 # Because we start indexing at 0\n",
        "\n",
        "        \"\"\"\n",
        "        The mean and varaince for the forward process is calculated using x0 and the alphas using the\n",
        "        closed form equation.\n",
        "        \"\"\"\n",
        "        mu = torch.sqrt(self.alphas_bar[t]) * x0\n",
        "        std = torch.sqrt(1 - self.alphas_bar[t])\n",
        "        epsilon = torch.randn_like(x0)\n",
        "        xt = mu + epsilon * std # data ~ N(mu, std)\n",
        "\n",
        "\n",
        "        \"\"\"\n",
        "        The above equations provides the x_t for timestep t. However we need the posterior probability\n",
        "        of x_t-1 given x_t and x_0.\n",
        "        \"\"\"\n",
        "        std_q = torch.sqrt((1 - self.alphas_bar[t-1])/ (1 - self.alphas_bar[t]) * self.betas[t])\n",
        "        m1 = torch.sqrt(self.alphas_bar[t-1]) * self.betas[t] / (1 - self.alphas_bar[t])\n",
        "        m2 = torch.sqrt(self.alphas[t]) * (1 - self.alphas_bar[t-1]) / (1 - self.alphas_bar[t])\n",
        "        mu_q = m1 * x0 + m2 * xt\n",
        "\n",
        "        return mu_q, std_q, xt\n",
        "\n",
        "    def reverse_process(self, xt, t):\n",
        "        \"\"\"\n",
        "        :param t: Number of diffusion steps\n",
        "        \"\"\"\n",
        "\n",
        "        assert t > 0, 't should be greater than 0'\n",
        "        assert self.T <= self.T, f't should be lower or equal than {self.T}'\n",
        "\n",
        "        t = t - 1 # Because we start indexing at 0\n",
        "\n",
        "        mu, std = self.model(xt, t)\n",
        "        epsilon = torch.randn_like(xt)\n",
        "\n",
        "        return mu, std, mu + epsilon * std # data ~ N(mu, std)\n",
        "\n",
        "\n",
        "    def sample(self, batch_size, device):\n",
        "\n",
        "        noise = torch.randn((batch_size, self.dim)).to(device)\n",
        "        x = noise\n",
        "\n",
        "        samples = [x]\n",
        "        for t in range(self.T, 0, -1):\n",
        "\n",
        "            if not (t == 1):\n",
        "                _, _, x = self.reverse_process(x, t)\n",
        "\n",
        "            samples.append(x)\n",
        "\n",
        "        return samples[::-1]\n",
        "\n",
        "\n",
        "    def get_loss(self, x0):\n",
        "        \"\"\"\n",
        "        :param x0: batch [batch_size, self.dim]\n",
        "        \"\"\"\n",
        "\n",
        "        t = torch.randint(2, 40+1, (1,))\n",
        "        mu_q, sigma_q, xt = self.forward_process(x0, t)\n",
        "\n",
        "        mu_p, sigma_p, xt_minus1 = self.reverse_process(xt.float(), t)\n",
        "\n",
        "        \"\"\"\n",
        "        KL divergence is not symmetric and it always non negative\n",
        "        The negative of KL is maximized as it forced to be closer to zero. It is same as minimizing the very high positive value.\n",
        "        Therefore loss = -(-K) = +k, the sign readjusted (double negation trick to convert the maximization problem into a minimization).\n",
        "        \"\"\"\n",
        "        KL = torch.log(sigma_p) - torch.log(sigma_q) + (\n",
        "            sigma_q**2 + (mu_q - mu_p)**2) / (2 * sigma_p**2)\n",
        "        K = - KL.mean() # Should be maximized\n",
        "        loss = - K # Should be minimized\n",
        "\n",
        "        return loss"
      ]
    },
    {
      "cell_type": "code",
      "execution_count": null,
      "metadata": {
        "colab": {
          "base_uri": "https://localhost:8080/"
        },
        "id": "1f-pzvaTEia3",
        "outputId": "0db4cd35-2370-48ff-ce8a-36a374af8fb8"
      },
      "outputs": [
        {
          "name": "stdout",
          "output_type": "stream",
          "text": [
            "Mounted at /content/gdrive\n"
          ]
        },
        {
          "name": "stderr",
          "output_type": "stream",
          "text": [
            "\r  0%|          | 0/300000 [00:00<?, ?it/s]"
          ]
        },
        {
          "name": "stdout",
          "output_type": "stream",
          "text": [
            "Saved checkpoint to /content/gdrive/MyDrive/Diffusion_model/paper_1/training/checkpoints/model_epoch_0.pth\n"
          ]
        },
        {
          "name": "stderr",
          "output_type": "stream",
          "text": [
            "  2%|▏         | 4998/300000 [01:56<1:44:54, 46.87it/s]"
          ]
        },
        {
          "name": "stdout",
          "output_type": "stream",
          "text": [
            "Saved checkpoint to /content/gdrive/MyDrive/Diffusion_model/paper_1/training/checkpoints/model_epoch_5000.pth\n"
          ]
        },
        {
          "name": "stderr",
          "output_type": "stream",
          "text": [
            "  3%|▎         | 9997/300000 [03:53<1:45:55, 45.63it/s]"
          ]
        },
        {
          "name": "stdout",
          "output_type": "stream",
          "text": [
            "Saved checkpoint to /content/gdrive/MyDrive/Diffusion_model/paper_1/training/checkpoints/model_epoch_10000.pth\n"
          ]
        },
        {
          "name": "stderr",
          "output_type": "stream",
          "text": [
            "  5%|▍         | 14997/300000 [05:34<1:59:37, 39.71it/s]"
          ]
        },
        {
          "name": "stdout",
          "output_type": "stream",
          "text": [
            "Saved checkpoint to /content/gdrive/MyDrive/Diffusion_model/paper_1/training/checkpoints/model_epoch_15000.pth\n"
          ]
        },
        {
          "name": "stderr",
          "output_type": "stream",
          "text": [
            "  7%|▋         | 19999/300000 [07:30<1:50:26, 42.26it/s]"
          ]
        },
        {
          "name": "stdout",
          "output_type": "stream",
          "text": [
            "Saved checkpoint to /content/gdrive/MyDrive/Diffusion_model/paper_1/training/checkpoints/model_epoch_20000.pth\n"
          ]
        },
        {
          "name": "stderr",
          "output_type": "stream",
          "text": [
            "  8%|▊         | 25000/300000 [09:24<1:35:49, 47.83it/s]"
          ]
        },
        {
          "name": "stdout",
          "output_type": "stream",
          "text": [
            "Saved checkpoint to /content/gdrive/MyDrive/Diffusion_model/paper_1/training/checkpoints/model_epoch_25000.pth\n"
          ]
        },
        {
          "name": "stderr",
          "output_type": "stream",
          "text": [
            " 10%|▉         | 29995/300000 [11:06<1:24:50, 53.04it/s]"
          ]
        },
        {
          "name": "stdout",
          "output_type": "stream",
          "text": [
            "Saved checkpoint to /content/gdrive/MyDrive/Diffusion_model/paper_1/training/checkpoints/model_epoch_30000.pth\n"
          ]
        },
        {
          "name": "stderr",
          "output_type": "stream",
          "text": [
            " 12%|█▏        | 34997/300000 [13:05<1:36:07, 45.95it/s]"
          ]
        },
        {
          "name": "stdout",
          "output_type": "stream",
          "text": [
            "Saved checkpoint to /content/gdrive/MyDrive/Diffusion_model/paper_1/training/checkpoints/model_epoch_35000.pth\n"
          ]
        },
        {
          "name": "stderr",
          "output_type": "stream",
          "text": [
            " 13%|█▎        | 39996/300000 [15:01<1:31:43, 47.24it/s]"
          ]
        },
        {
          "name": "stdout",
          "output_type": "stream",
          "text": [
            "Saved checkpoint to /content/gdrive/MyDrive/Diffusion_model/paper_1/training/checkpoints/model_epoch_40000.pth\n"
          ]
        },
        {
          "name": "stderr",
          "output_type": "stream",
          "text": [
            " 15%|█▌        | 45000/300000 [16:42<1:18:58, 53.82it/s]"
          ]
        },
        {
          "name": "stdout",
          "output_type": "stream",
          "text": [
            "Saved checkpoint to /content/gdrive/MyDrive/Diffusion_model/paper_1/training/checkpoints/model_epoch_45000.pth\n"
          ]
        },
        {
          "name": "stderr",
          "output_type": "stream",
          "text": [
            " 17%|█▋        | 49999/300000 [18:37<1:32:29, 45.05it/s]"
          ]
        },
        {
          "name": "stdout",
          "output_type": "stream",
          "text": [
            "Saved checkpoint to /content/gdrive/MyDrive/Diffusion_model/paper_1/training/checkpoints/model_epoch_50000.pth\n"
          ]
        },
        {
          "name": "stderr",
          "output_type": "stream",
          "text": [
            " 18%|█▊        | 55000/300000 [20:17<1:14:51, 54.54it/s]"
          ]
        },
        {
          "name": "stdout",
          "output_type": "stream",
          "text": [
            "Saved checkpoint to /content/gdrive/MyDrive/Diffusion_model/paper_1/training/checkpoints/model_epoch_55000.pth\n"
          ]
        },
        {
          "name": "stderr",
          "output_type": "stream",
          "text": [
            " 20%|█▉        | 59997/300000 [22:13<1:23:57, 47.64it/s]"
          ]
        },
        {
          "name": "stdout",
          "output_type": "stream",
          "text": [
            "Saved checkpoint to /content/gdrive/MyDrive/Diffusion_model/paper_1/training/checkpoints/model_epoch_60000.pth\n"
          ]
        },
        {
          "name": "stderr",
          "output_type": "stream",
          "text": [
            " 22%|██▏       | 64998/300000 [24:08<1:22:27, 47.50it/s]"
          ]
        },
        {
          "name": "stdout",
          "output_type": "stream",
          "text": [
            "Saved checkpoint to /content/gdrive/MyDrive/Diffusion_model/paper_1/training/checkpoints/model_epoch_65000.pth\n"
          ]
        },
        {
          "name": "stderr",
          "output_type": "stream",
          "text": [
            " 23%|██▎       | 69999/300000 [25:50<1:10:55, 54.04it/s]"
          ]
        },
        {
          "name": "stdout",
          "output_type": "stream",
          "text": [
            "Saved checkpoint to /content/gdrive/MyDrive/Diffusion_model/paper_1/training/checkpoints/model_epoch_70000.pth\n"
          ]
        },
        {
          "name": "stderr",
          "output_type": "stream",
          "text": [
            " 25%|██▍       | 74998/300000 [27:30<1:25:22, 43.93it/s]"
          ]
        },
        {
          "name": "stdout",
          "output_type": "stream",
          "text": [
            "Saved checkpoint to /content/gdrive/MyDrive/Diffusion_model/paper_1/training/checkpoints/model_epoch_75000.pth\n"
          ]
        },
        {
          "name": "stderr",
          "output_type": "stream",
          "text": [
            " 27%|██▋       | 80000/300000 [29:22<1:07:17, 54.49it/s]"
          ]
        },
        {
          "name": "stdout",
          "output_type": "stream",
          "text": [
            "Saved checkpoint to /content/gdrive/MyDrive/Diffusion_model/paper_1/training/checkpoints/model_epoch_80000.pth\n"
          ]
        },
        {
          "name": "stderr",
          "output_type": "stream",
          "text": [
            " 28%|██▊       | 85000/300000 [31:02<1:05:37, 54.61it/s]"
          ]
        },
        {
          "name": "stdout",
          "output_type": "stream",
          "text": [
            "Saved checkpoint to /content/gdrive/MyDrive/Diffusion_model/paper_1/training/checkpoints/model_epoch_85000.pth\n"
          ]
        },
        {
          "name": "stderr",
          "output_type": "stream",
          "text": [
            " 30%|███       | 90000/300000 [32:54<1:23:46, 41.78it/s]"
          ]
        },
        {
          "name": "stdout",
          "output_type": "stream",
          "text": [
            "Saved checkpoint to /content/gdrive/MyDrive/Diffusion_model/paper_1/training/checkpoints/model_epoch_90000.pth\n"
          ]
        },
        {
          "name": "stderr",
          "output_type": "stream",
          "text": [
            " 32%|███▏      | 94999/300000 [34:34<1:02:56, 54.29it/s]"
          ]
        },
        {
          "name": "stdout",
          "output_type": "stream",
          "text": [
            "Saved checkpoint to /content/gdrive/MyDrive/Diffusion_model/paper_1/training/checkpoints/model_epoch_95000.pth\n"
          ]
        },
        {
          "name": "stderr",
          "output_type": "stream",
          "text": [
            " 33%|███▎      | 100000/300000 [36:30<1:09:58, 47.64it/s]"
          ]
        },
        {
          "name": "stdout",
          "output_type": "stream",
          "text": [
            "Saved checkpoint to /content/gdrive/MyDrive/Diffusion_model/paper_1/training/checkpoints/model_epoch_100000.pth\n"
          ]
        },
        {
          "name": "stderr",
          "output_type": "stream",
          "text": [
            " 34%|███▍      | 102480/300000 [37:22<1:02:16, 52.87it/s]"
          ]
        }
      ],
      "source": [
        "def train(diffusion_model, optimizer, batch_size, nb_epochs, device):\n",
        "\n",
        "    figs_dir = \"/content/gdrive/MyDrive/Diffusion_model/paper_1/training/figs\"\n",
        "    if not os.path.exists(figs_dir):\n",
        "        os.makedirs(figs_dir)\n",
        "\n",
        "    checkpoints_dir = '/content/gdrive/MyDrive/Diffusion_model/paper_1/training/checkpoints'\n",
        "    if not os.path.exists(checkpoints_dir):\n",
        "        os.makedirs(checkpoints_dir)\n",
        "\n",
        "    training_loss = []\n",
        "    for epoch in tqdm(range(nb_epochs)):\n",
        "        x0 = sample_batch(batch_size).to(device)\n",
        "        loss = diffusion_model.get_loss(x0)\n",
        "\n",
        "        optimizer.zero_grad()\n",
        "        loss.backward()\n",
        "        optimizer.step()\n",
        "\n",
        "        training_loss.append(loss.item())\n",
        "\n",
        "        if epoch % 5000 == 0:\n",
        "\n",
        "            checkpoint_path = os.path.join(checkpoints_dir, f'model_epoch_{epoch}.pth')\n",
        "            torch.save(diffusion_model.state_dict(), checkpoint_path)\n",
        "            print(f\"Saved checkpoint to {checkpoint_path}\")\n",
        "\n",
        "            figs_path = os.path.join(figs_dir, f\"training_loss_epoch_{epoch}.png\" )\n",
        "            plt.plot(training_loss)\n",
        "            plt.savefig(figs_path)\n",
        "            plt.close()\n",
        "\n",
        "            plot(diffusion_model, figs_path, device)\n",
        "\n",
        "    return training_loss\n",
        "\n",
        "device = 'cuda'\n",
        "mlp_model = MLP(hidden_dim=128).to(device)\n",
        "model = DiffusionModel(40, mlp_model, device)\n",
        "optimizer = torch.optim.Adam(mlp_model.parameters(), lr=1e-4)\n",
        "\n",
        "train(model, optimizer, 64_000, 300_000, device)"
      ]
    },
    {
      "cell_type": "code",
      "execution_count": null,
      "metadata": {
        "colab": {
          "base_uri": "https://localhost:8080/"
        },
        "id": "zXMBbUhKKHwF",
        "outputId": "54efbb3e-a6ac-4686-bac8-80d720e3d811"
      },
      "outputs": [
        {
          "name": "stdout",
          "output_type": "stream",
          "text": [
            "Loading model from checkpoint: /content/gdrive/MyDrive/Diffusion_model/paper_1/training/checkpoints/model_epoch_295000.pth\n",
            "Model loaded successfully. Plotting...\n",
            "Plot saved to /content/gdrive/MyDrive/Diffusion_model/paper_1/training/figs/test_plot_from_checkpoint.png\n"
          ]
        }
      ],
      "source": [
        "def test_model(model, checkpoint_path, device):\n",
        "\n",
        "    print(f\"Loading model from checkpoint: {checkpoint_path}\")\n",
        "    try:\n",
        "        model.load_state_dict(torch.load(checkpoint_path, map_location=device))\n",
        "        model.to(device)\n",
        "        model.eval()  # Set the model to evaluation mode\n",
        "        print(\"Model loaded successfully. Plotting...\")\n",
        "\n",
        "        # Define a file name for the plot.\n",
        "        file_name = \"/content/gdrive/MyDrive/Diffusion_model/paper_1/training/figs/test_plot_from_checkpoint.png\"\n",
        "\n",
        "        # Call the existing plot function\n",
        "        plot(model, file_name, device)\n",
        "        print(f\"Plot saved to {file_name}\")\n",
        "\n",
        "    except FileNotFoundError:\n",
        "        print(f\"Error: Checkpoint file not found at {checkpoint_path}\")\n",
        "    except Exception as e:\n",
        "        print(f\"An error occurred: {e}\")\n",
        "\n",
        "checkpoint_to_load = '/content/gdrive/MyDrive/Diffusion_model/paper_1/training/checkpoints/model_epoch_295000.pth'\n",
        "device = 'cuda'\n",
        "test_mlp_model = MLP(hidden_dim=128).to(device)\n",
        "test_diffusion_model = DiffusionModel(40, test_mlp_model, device)\n",
        "test_model(test_diffusion_model, checkpoint_to_load, device)"
      ]
    },
    {
      "cell_type": "code",
      "execution_count": null,
      "metadata": {
        "id": "hPgh5VBlKq1Q"
      },
      "outputs": [],
      "source": []
    }
  ],
  "metadata": {
    "accelerator": "GPU",
    "colab": {
      "gpuType": "T4",
      "provenance": []
    },
    "kernelspec": {
      "display_name": "Python 3",
      "name": "python3"
    },
    "language_info": {
      "name": "python"
    }
  },
  "nbformat": 4,
  "nbformat_minor": 0
}
